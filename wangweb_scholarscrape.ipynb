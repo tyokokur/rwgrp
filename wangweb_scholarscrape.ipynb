{
  "nbformat": 4,
  "nbformat_minor": 0,
  "metadata": {
    "colab": {
      "provenance": [],
      "collapsed_sections": []
    },
    "kernelspec": {
      "name": "python3",
      "display_name": "Python 3"
    },
    "language_info": {
      "name": "python"
    }
  },
  "cells": [
    {
      "cell_type": "code",
      "execution_count": null,
      "metadata": {
        "colab": {
          "base_uri": "https://localhost:8080/"
        },
        "id": "WdD35p5JDtDz",
        "outputId": "c7c3ba22-6b9b-4a4e-f90e-84b3b705a584"
      },
      "outputs": [
        {
          "output_type": "stream",
          "name": "stdout",
          "text": [
            "Drive already mounted at /content/drive; to attempt to forcibly remount, call drive.mount(\"/content/drive\", force_remount=True).\n",
            "/content/drive/My Drive/Colab Notebooks/wangweb\n",
            "Looking in indexes: https://pypi.org/simple, https://us-python.pkg.dev/colab-wheels/public/simple/\n",
            "Requirement already satisfied: google-search-results in /usr/local/lib/python3.7/dist-packages (2.4.1)\n",
            "Requirement already satisfied: requests in /usr/local/lib/python3.7/dist-packages (from google-search-results) (2.23.0)\n",
            "Requirement already satisfied: urllib3!=1.25.0,!=1.25.1,<1.26,>=1.21.1 in /usr/local/lib/python3.7/dist-packages (from requests->google-search-results) (1.24.3)\n",
            "Requirement already satisfied: certifi>=2017.4.17 in /usr/local/lib/python3.7/dist-packages (from requests->google-search-results) (2022.6.15)\n",
            "Requirement already satisfied: chardet<4,>=3.0.2 in /usr/local/lib/python3.7/dist-packages (from requests->google-search-results) (3.0.4)\n",
            "Requirement already satisfied: idna<3,>=2.5 in /usr/local/lib/python3.7/dist-packages (from requests->google-search-results) (2.10)\n"
          ]
        }
      ],
      "source": [
        "from google.colab import drive\n",
        "drive.mount('/content/drive')\n",
        "\n",
        "# Colab command to navigate to the folder holding the homework,\n",
        "# CHANGE FOR YOUR SPECIFIC FOLDER LOCATION IN GOOGLE DRIVE\n",
        "# Note: if there are spaces in the path, you need to preceed them with a backslash '\\'\n",
        "%cd /content/drive/My\\ Drive/Colab\\ Notebooks/wangweb\n",
        "\n",
        "import string\n",
        "###\n",
        "\"\"\"\n",
        "API KEY is free version - 100 pulls/month only\n",
        "Login is using tyokokur github account (linked to berkeley.edu email)\n",
        "\"\"\"\n",
        "###\n",
        "\n",
        "!pip install google-search-results\n",
        "def scholar_sync(pubs_filename):\n",
        "  from serpapi import GoogleSearch\n",
        "\n",
        "  params = {\n",
        "    \"engine\": \"google_scholar_author\",\n",
        "    \"hl\": \"en\", # English\n",
        "    \"author_id\": \"IdNvgY0AAAAJ&hl\", # Rui Wang\n",
        "    \"api_key\": \"5f07e581fedb60c9bbf2bfb6f7624870b14b01500702049975fd56e52d6cc018\", # API key for tyokokur\n",
        "    \"num\": 1000 # Max number of publications\n",
        "  }\n",
        "\n",
        "  search = GoogleSearch(params)\n",
        "  results = search.get_dict() # Output\n",
        "  arts = results['articles']\n",
        "  with open(pubs_filename, 'w') as output_file:\n",
        "    output_file.write('[')\n",
        "    for i in results['articles']: output_file.write(str(i)+', ')\n",
        "    output_file.write(']')\n",
        "  return\n",
        "\n",
        "# scholar_sync('pubs.txt)\n",
        "## Output file and change locally if needed"
      ]
    },
    {
      "cell_type": "code",
      "source": [
        "with open('pubs.txt', 'r') as input_file:\n",
        "  arts = input_file.read()\n",
        "arts = eval(arts)\n",
        "sort_arts = sorted(arts, reverse=True, key=lambda d: d['year']) # Sort by descending pub dat\n",
        "sort_arts\n",
        "for i in sort_arts: \n",
        "  if '...' in i['authors']: \n",
        "    i['authors'] = i['authors'][:-len('...')] + 'et. al' # et al. for entries with too many authors\n",
        "\n",
        "  if '(' in i['publication'].split(' ')[-3]: # Issue number included\n",
        "    i.update({'journal':' '.join(i['publication'].split(' ')[:-4])})\n",
        "    i.update({'pages': ' '.join(i['publication'].split(' ')[-4:-1])[:-1]}) # [:-1] Get rid of final comma\n",
        "  elif '-' not in i['publication'][-2]: # Online pub with no page number or issue\n",
        "    i.update({'journal':' '.join(i['publication'].split(' ')[:-3])})\n",
        "    i.update({'pages': ' '.join(i['publication'].split(' ')[-3:-1])[:-1]}) # [:-1] Get rid of final comma"
      ],
      "metadata": {
        "id": "vH9MXEYxN5sL"
      },
      "execution_count": null,
      "outputs": []
    },
    {
      "cell_type": "code",
      "source": [
        "INTRO = \"\"\"\n",
        "  <section id=\"two\" class=\"wrapper style2\">\n",
        "\t\t\t\t<div class=\"container\">\n",
        "\t\t\t\t\t<div class = \"inner\">\n",
        "\t\t\t\t\t\t<div class=\"content\">\n",
        "              <ol reversed>\n",
        "\"\"\"\n",
        "TEMPLATE = \"\"\"\n",
        "<li>{authors}. {year}. \"{title}\". <em>{journal}</em>. {pages}. <a href=\"{link}\">Link</a></li>\n",
        "\"\"\""
      ],
      "metadata": {
        "id": "aQ6S_wnMMi0s"
      },
      "execution_count": null,
      "outputs": []
    },
    {
      "cell_type": "code",
      "source": [
        "with open('web_pub.txt', 'w') as output_file:\n",
        "  for i in sort_arts:\n",
        "    output_file.write(TEMPLATE.format(**i))"
      ],
      "metadata": {
        "id": "E_KBWI5yR3kL"
      },
      "execution_count": null,
      "outputs": []
    },
    {
      "cell_type": "code",
      "source": [],
      "metadata": {
        "id": "bxtt-fH_pQtR"
      },
      "execution_count": null,
      "outputs": []
    }
  ]
}